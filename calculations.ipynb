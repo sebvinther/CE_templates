{
 "cells": [
  {
   "cell_type": "code",
   "execution_count": 1,
   "metadata": {},
   "outputs": [],
   "source": [
    "import numpy as np\n",
    "import matplotlib.pyplot as plt\n",
    "import pandas as pd"
   ]
  },
  {
   "cell_type": "code",
   "execution_count": 8,
   "metadata": {},
   "outputs": [
    {
     "name": "stdout",
     "output_type": "stream",
     "text": [
      "The price of the call option at time 0 is: 6.36 EUR\n",
      "The price of the put option at time 0 is: 4.92 EUR\n"
     ]
    }
   ],
   "source": [
    "# Binomial Lattice Calculation for Call Option Price on Crude Oil\n",
    "# This script calculates the price of a 5-month call option on crude oil using the binomial lattice method.\n",
    "\n",
    "import numpy as np\n",
    "import pandas as pd\n",
    "\n",
    "# Step 1: Define the parameters for the binomial lattice\n",
    "S0 = 70  # Initial spot price of crude oil\n",
    "K = 70  # Strike price\n",
    "r = 0.05  # Risk-free interest rate (5% per annum)\n",
    "T = 5 / 12  # Time to maturity in years (5 months)\n",
    "volatility = 0.3  # Volatility\n",
    "n = 5  # Number of steps (5 months)\n",
    "R = 1 + r / 12  # Monthly risk-free rate\n",
    "u = 1.09046  # Upward movement factor\n",
    "d = 0.91704  # Downward movement factor\n",
    "p = (R - d) / (u - d)  # Risk-neutral probability\n",
    "\n",
    "# Step 2: Create an empty DataFrame to store the spot prices in the lattice\n",
    "lattice = pd.DataFrame(np.zeros((n + 1, n + 1)))\n",
    "\n",
    "# Step 3: Fill in the lattice with potential spot prices over the 5-month period\n",
    "for i in range(n + 1):  # Iterate over columns (time steps)\n",
    "    for j in range(i + 1):  # Iterate over rows (up and down movements)\n",
    "        lattice.iloc[j, i] = S0 * (u ** (i - j)) * (d ** j)\n",
    "\n",
    "# Step 4: Create an empty DataFrame to store the option values in the lattice\n",
    "option_lattice = pd.DataFrame(np.zeros((n + 1, n + 1)))\n",
    "\n",
    "# Step 5: Calculate the option payoff at maturity\n",
    "for j in range(n + 1):\n",
    "    option_lattice.iloc[j, n] = max(lattice.iloc[j, n] - K, 0)\n",
    "\n",
    "# Step 6: Backward induction to calculate the option price\n",
    "for i in range(n - 1, -1, -1):  # Iterate backwards through the time steps\n",
    "    for j in range(i + 1):\n",
    "        option_lattice.iloc[j, i] = (1 / R) * (p * option_lattice.iloc[j, i + 1] + (1 - p) * option_lattice.iloc[j + 1, i + 1])\n",
    "\n",
    "# Step 7: Print the price of the call option at time 0\n",
    "call_option_price = option_lattice.iloc[0, 0]\n",
    "print(f\"The price of the call option at time 0 is: {call_option_price:.2f} EUR\")\n",
    "\n",
    "# Step 8: Calculate the price of the put option using put-call parity\n",
    "put_option_price = call_option_price + K / (R ** n) - S0\n",
    "print(f\"The price of the put option at time 0 is: {put_option_price:.2f} EUR\")"
   ]
  },
  {
   "cell_type": "code",
   "execution_count": null,
   "metadata": {},
   "outputs": [
    {
     "name": "stdout",
     "output_type": "stream",
     "text": [
      "Baseload PPA Price (Including Margin): 98.00 EUR/MWh\n",
      "Pay-as-Produced PPA Price (Including Margin and Adjustment): 78.40 EUR/MWh\n"
     ]
    }
   ],
   "source": [
    "# Baseload and Pay-as-Produced PPA Calculation\n",
    "# This script calculates the Baseload PPA and Pay-as-Produced PPA prices based on given inputs.\n",
    "\n",
    "# Step 1: Define the parameters\n",
    "futures_price = 100  # Futures Price in EUR/MWh\n",
    "cannibalization_effect_baseload = 0  # Cannibalization effect for Baseload PPA (0%)\n",
    "cannibalization_effect_pay_as_produced = 20  # Cannibalization effect for Pay-as-Produced PPA (20%)\n",
    "margin = 2  # Margin in EUR/MWh\n",
    "additional_reduction_factor = 0.9561  # Additional reduction factor for Pay-as-Produced PPA\n",
    "\n",
    "# Step 2: Calculate Baseload PPA Price\n",
    "# Cannibalization effect for Baseload is 0%, so we simply add the margin to the futures price\n",
    "baseload_ppa_price = futures_price * (1 - cannibalization_effect_baseload / 100) - margin\n",
    "\n",
    "# Step 3: Calculate Pay-as-Produced PPA Price\n",
    "# Apply the cannibalization effect and add the margin\n",
    "price_after_cannibalization = futures_price * (1 - cannibalization_effect_pay_as_produced / 100)\n",
    "pay_as_produced_ppa_price_without_adjustment = price_after_cannibalization + margin\n",
    "# Apply the additional reduction factor for the production profile\n",
    "pay_as_produced_ppa_price = pay_as_produced_ppa_price_without_adjustment * additional_reduction_factor\n",
    "\n",
    "# Step 4: Print the results\n",
    "print(f\"Baseload PPA Price (Including Margin): {baseload_ppa_price:.2f} EUR/MWh\")\n",
    "print(f\"Pay-as-Produced PPA Price (Including Margin and Adjustment): {pay_as_produced_ppa_price:.2f} EUR/MWh\")\n",
    "\n",
    "# Explanation:\n",
    "# - Baseload PPA price is calculated directly by adding the margin to the futures price without any cannibalization adjustment.\n",
    "# - Pay-as-Produced PPA price is adjusted for the 20% cannibalization effect and further reduced by an additional reduction factor (0.9561). (final price/price before adjustment= 0.9561)\n",
    "# - The final Baseload PPA price is 98 EUR/MWh, while the Pay-as-Produced PPA price is 78.4 EUR/MWh.\n"
   ]
  }
 ],
 "metadata": {
  "kernelspec": {
   "display_name": "Python 3",
   "language": "python",
   "name": "python3"
  },
  "language_info": {
   "codemirror_mode": {
    "name": "ipython",
    "version": 3
   },
   "file_extension": ".py",
   "mimetype": "text/x-python",
   "name": "python",
   "nbconvert_exporter": "python",
   "pygments_lexer": "ipython3",
   "version": "3.12.5"
  }
 },
 "nbformat": 4,
 "nbformat_minor": 2
}
